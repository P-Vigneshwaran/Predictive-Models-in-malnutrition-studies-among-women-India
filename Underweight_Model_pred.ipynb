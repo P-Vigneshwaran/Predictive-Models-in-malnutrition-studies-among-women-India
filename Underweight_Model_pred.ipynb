{
 "cells": [
  {
   "cell_type": "code",
   "execution_count": 4,
   "id": "da736dda-c2ed-4bf9-8f4a-3edae0a64c1f",
   "metadata": {},
   "outputs": [],
   "source": [
    "from keras.models import model_from_json\n",
    "\n",
    "# Load the model architecture from JSON\n",
    "with open(\"model_architecture1.json\", \"r\") as json_file:\n",
    "    loaded_model_json = json_file.read()\n",
    "loaded_model = model_from_json(loaded_model_json)\n",
    "\n",
    "# Load the weights into the model\n",
    "loaded_model.load_weights(\"model_weights1.weights.h5\")"
   ]
  },
  {
   "cell_type": "code",
   "execution_count": 2,
   "id": "453ffa86-5934-4049-8068-80fed39f3d55",
   "metadata": {},
   "outputs": [],
   "source": [
    "#35-49\tJammu & Kashmir\tUrban\tHigher\tSafe\tHygenic\tMuslim Improved\tRich\tNo\tone-two\tNo\tMarried\tNo births\n"
   ]
  },
  {
   "cell_type": "code",
   "execution_count": 2,
   "id": "4c9efc71-0f2c-4379-9d5f-d98eb01e4719",
   "metadata": {},
   "outputs": [],
   "source": [
    "input_data = [[0, 0, 1, 0, 0, 0, 0, 0, 0, 0, 0, 0, 0, 0, 0, 1, 0, 0, 0, 0, 0, 0, 0, 0, 0, 0, 0, 0, 0, 0, 0, 0, 0, 0, 0, 0, 0, 0, 0, 0, 1, 1, 0, 0, 0, 1, 0, 1, 0, 1, 0, 0, 0, 1, 1, 0, 0, 0, 1, 0, 1, 0, 0, 1, 0, 0, 0, 1, 0, 0, 0]]\n"
   ]
  },
  {
   "cell_type": "code",
   "execution_count": 3,
   "id": "54e67acd-bb5b-4f5c-a723-2bd6c3cb1916",
   "metadata": {},
   "outputs": [],
   "source": [
    "import numpy as np\n",
    "input_data_np = np.array(input_data)"
   ]
  },
  {
   "cell_type": "code",
   "execution_count": 4,
   "id": "0c36b49e-12c3-4037-85e8-1f889889a59c",
   "metadata": {},
   "outputs": [
    {
     "name": "stdout",
     "output_type": "stream",
     "text": [
      "\u001b[1m1/1\u001b[0m \u001b[32m━━━━━━━━━━━━━━━━━━━━\u001b[0m\u001b[37m\u001b[0m \u001b[1m0s\u001b[0m 320ms/step\n",
      "Predicted class: [1]\n"
     ]
    }
   ],
   "source": [
    "# Make predictions\n",
    "predictions = loaded_model.predict(input_data_np)\n",
    "rounded_predictions = np.round(predictions).astype(int)\n",
    "# Interpret and print rounded results\n",
    "for prediction in rounded_predictions:\n",
    "    print(f\"Predicted class: {prediction}\")"
   ]
  },
  {
   "cell_type": "code",
   "execution_count": 1,
   "id": "aa266e10-10a6-47d8-8628-c72f8bc65dca",
   "metadata": {},
   "outputs": [],
   "source": [
    "#15-24\tGujarat\tRural\tSecondary\tSafe\tHygenic\tHindu Improved\tMiddle\tNo\tNo\tNo\tNever in union\tNo births\n"
   ]
  },
  {
   "cell_type": "code",
   "execution_count": 7,
   "id": "9463fb81-c11e-41c0-ae7e-a41337b501e5",
   "metadata": {},
   "outputs": [],
   "source": [
    "input_data_1 = [[1,0,0,0,0,0,0,0,0,0,0,0,1,0,0,0,0,0,0,0,0,0,0,0,0,0,0,0,0,0,0,0,0,0,0,0,0,0,0,1,0,0,0,0,1,1,0,1,0,1,0,1,0,0,1,0,1,0,0,0,1,0,0,0,1,0,0,1,0,0,0]]\n"
   ]
  },
  {
   "cell_type": "code",
   "execution_count": 8,
   "id": "db556a67-79ef-41e6-bafc-7c13ff92fafc",
   "metadata": {},
   "outputs": [],
   "source": [
    "import numpy as np\n",
    "input_data_np1 = np.array(input_data_1)"
   ]
  },
  {
   "cell_type": "code",
   "execution_count": 13,
   "id": "b0d3b89b-1c22-4899-8249-2eba4486c739",
   "metadata": {},
   "outputs": [
    {
     "name": "stdout",
     "output_type": "stream",
     "text": [
      "\u001b[1m1/1\u001b[0m \u001b[32m━━━━━━━━━━━━━━━━━━━━\u001b[0m\u001b[37m\u001b[0m \u001b[1m0s\u001b[0m 65ms/step\n",
      "Predicted class: [0]\n"
     ]
    }
   ],
   "source": [
    "# Make predictions\n",
    "predictions = loaded_model.predict(input_data_np1)\n",
    "rounded_predictions = np.round(predictions).astype(int)\n",
    "# Interpret and print rounded results\n",
    "for prediction in rounded_predictions:\n",
    "    print(f\"Predicted class: {prediction}\")"
   ]
  }
 ],
 "metadata": {
  "kernelspec": {
   "display_name": "Python 3 (ipykernel)",
   "language": "python",
   "name": "python3"
  },
  "language_info": {
   "codemirror_mode": {
    "name": "ipython",
    "version": 3
   },
   "file_extension": ".py",
   "mimetype": "text/x-python",
   "name": "python",
   "nbconvert_exporter": "python",
   "pygments_lexer": "ipython3",
   "version": "3.11.7"
  }
 },
 "nbformat": 4,
 "nbformat_minor": 5
}
