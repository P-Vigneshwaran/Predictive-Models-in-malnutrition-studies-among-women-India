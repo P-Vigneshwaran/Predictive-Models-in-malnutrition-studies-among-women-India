{
 "cells": [
  {
   "cell_type": "code",
   "execution_count": 2,
   "id": "92f7dad7-6b90-451b-a700-b7af054d6dc0",
   "metadata": {},
   "outputs": [],
   "source": [
    "from keras.models import model_from_json\n",
    "\n",
    "# Load the model architecture from JSON\n",
    "with open(\"model_architecture.json\", \"r\") as json_file:\n",
    "    loaded_model_json = json_file.read()\n",
    "loaded_model = model_from_json(loaded_model_json)\n",
    "\n",
    "# Load the weights into the model\n",
    "loaded_model.load_weights(\"model_weights.weights.h5\")\n"
   ]
  },
  {
   "cell_type": "code",
   "execution_count": null,
   "id": "dada4a8b-d7a4-4ccc-8f17-4db5ce638a2d",
   "metadata": {},
   "outputs": [],
   "source": [
    "# 15-24\tOdisha\tRural\tSecondary\tSafe\tUnhygenic\tHindu\tUnimproved\tPoor\tNo\tNo\tNo\tNever in union\tNo births\n"
   ]
  },
  {
   "cell_type": "code",
   "execution_count": 2,
   "id": "7bffb3ec-e7a1-4fe3-9f02-8da4ee7e0c77",
   "metadata": {},
   "outputs": [],
   "source": [
    "input_data = [[1, 0, 0, 1, 0, 0, 0, 0, 0, 0, 0, 0, 0, 0, 0, 0, 0, 0, 0, 0, 0, 0, 0, 0, 0, 0, 0, 0, 0, 1, 0, 0, 0, 0, 0, 0, 0, 0, 0, 0, 0, 0, 0, 0, 1, 1, 0, 0, 1, 0, 1, 0, 1, 0, 1, 0, 1, 0, 0, 0, 1, 0, 0, 0, 1, 0, 0, 1, 0, 0, 0]]\n"
   ]
  },
  {
   "cell_type": "code",
   "execution_count": 3,
   "id": "310b77d9-17bd-4482-b274-f7216289a2a6",
   "metadata": {},
   "outputs": [],
   "source": [
    "import numpy as np\n",
    "input_data_np = np.array(input_data)"
   ]
  },
  {
   "cell_type": "code",
   "execution_count": 4,
   "id": "f29e9f0c-7dda-42be-9b2b-70ab0f4bfed8",
   "metadata": {},
   "outputs": [
    {
     "name": "stdout",
     "output_type": "stream",
     "text": [
      "\u001b[1m1/1\u001b[0m \u001b[32m━━━━━━━━━━━━━━━━━━━━\u001b[0m\u001b[37m\u001b[0m \u001b[1m0s\u001b[0m 455ms/step\n",
      "Predicted class: [1]\n"
     ]
    }
   ],
   "source": [
    "# Make predictions\n",
    "predictions = loaded_model.predict(input_data_np)\n",
    "rounded_predictions = np.round(predictions).astype(int)\n",
    "# Interpret and print rounded results\n",
    "for prediction in rounded_predictions:\n",
    "    print(f\"Predicted class: {prediction}\")"
   ]
  },
  {
   "cell_type": "code",
   "execution_count": 10,
   "id": "ffe9576f-8e0a-4f79-8de3-87b89b951ee1",
   "metadata": {},
   "outputs": [],
   "source": [
    "#35-49\tSikkim\tRural\tPrimary\tSafe\tHygenic\tImproved\tPoor\tNo\tthree-four\tNo\tMarried\tNo births\n",
    "\n"
   ]
  },
  {
   "cell_type": "code",
   "execution_count": 6,
   "id": "2904c374-8879-41e9-aa97-cd552cb8e3a5",
   "metadata": {},
   "outputs": [],
   "source": [
    "input_data_1 = [[0,0,1,0,0,0,0,0,0,0,0,0,0,0,0,0,0,0,0,0,0,0,0,0,0,0,0,0,0,0,0,0,1,0,0,0,0,0,0,1,0,0,0,1,0,1,0,1,0,1,0,0,1,0,1,0,0,0,0,1,1,0,0,1,0,0,0,1,0,0,0]]\n"
   ]
  },
  {
   "cell_type": "code",
   "execution_count": 7,
   "id": "bea22b2a-03ae-4468-b34a-6337ff493c13",
   "metadata": {},
   "outputs": [],
   "source": [
    "import numpy as np\n",
    "input_data_np1 = np.array(input_data_1)"
   ]
  },
  {
   "cell_type": "code",
   "execution_count": 8,
   "id": "40a5ab63-d9ec-4092-bcd1-f39b2dbff019",
   "metadata": {},
   "outputs": [
    {
     "name": "stdout",
     "output_type": "stream",
     "text": [
      "\u001b[1m1/1\u001b[0m \u001b[32m━━━━━━━━━━━━━━━━━━━━\u001b[0m\u001b[37m\u001b[0m \u001b[1m0s\u001b[0m 49ms/step\n",
      "Predicted class: [0]\n"
     ]
    }
   ],
   "source": [
    "# Make predictions\n",
    "predictions = loaded_model.predict(input_data_np1)\n",
    "rounded_predictions = np.round(predictions).astype(int)\n",
    "# Interpret and print rounded results\n",
    "for prediction in rounded_predictions:\n",
    "    print(f\"Predicted class: {prediction}\")"
   ]
  },
  {
   "cell_type": "code",
   "execution_count": 9,
   "id": "6ebd6b40-32fd-4625-a6dd-0bcb90c1c6eb",
   "metadata": {},
   "outputs": [],
   "source": [
    "#35-49\tNct Of Delhi\tUrban\tSecondary\tSafe\tHygenic\t Improved\tRich\tNo\tthree-four\tNo\tMarried\tNo births\n"
   ]
  },
  {
   "cell_type": "code",
   "execution_count": 3,
   "id": "d6cacfea-a30e-41ae-9c7f-9accd42691b7",
   "metadata": {},
   "outputs": [],
   "source": [
    "input_data_2 = [[0,0,1,0,0,0,0,0,0,0,0,0,0,0,0,0,0,0,0,0,0,0,0,0,0,0,0,1,0,0,0,0,0,0,0,0,0,0,0,0,1,0,0,0,1,1,0,1,0,1,0,0,0,1,1,0,0,0,0,1,1,0,0,1,0,0,0,1,0,0,0]]\n"
   ]
  },
  {
   "cell_type": "code",
   "execution_count": 6,
   "id": "a05dd5a0-846d-48ec-bd18-0c3127a6d450",
   "metadata": {},
   "outputs": [],
   "source": [
    "import numpy as np\n",
    "input_data_np2 = np.array(input_data_2)"
   ]
  },
  {
   "cell_type": "code",
   "execution_count": 7,
   "id": "748d9879-a21d-4587-a0b2-15778d82d0dd",
   "metadata": {},
   "outputs": [
    {
     "name": "stdout",
     "output_type": "stream",
     "text": [
      "\u001b[1m1/1\u001b[0m \u001b[32m━━━━━━━━━━━━━━━━━━━━\u001b[0m\u001b[37m\u001b[0m \u001b[1m0s\u001b[0m 359ms/step\n",
      "Predicted class: [0]\n"
     ]
    }
   ],
   "source": [
    "# Make predictions\n",
    "predictions = loaded_model.predict(input_data_np2)\n",
    "rounded_predictions = np.round(predictions).astype(int)\n",
    "# Interpret and print rounded results\n",
    "for prediction in rounded_predictions:\n",
    "    print(f\"Predicted class: {prediction}\")"
   ]
  },
  {
   "cell_type": "code",
   "execution_count": 1,
   "id": "5605cba2-0cc5-4a2d-b292-c0a6180b773f",
   "metadata": {},
   "outputs": [],
   "source": [
    "#15-24\tChhattisgarh\tRural\tHigher\tSafe\tHygenic\tUnimproved\tMiddle\tNo\tNo\tNo\tNever in union\tNo births\n"
   ]
  },
  {
   "cell_type": "code",
   "execution_count": 17,
   "id": "0352f858-52e3-44bb-bef4-c5411d60a91c",
   "metadata": {},
   "outputs": [],
   "source": [
    "input_data_3 = [[1,0,0,0,0,0,0,0,0,1,0,0,0,0,0,0,0,0,0,0,0,0,0,0,0,0,0,0,0,0,0,0,0,0,0,0,0,0,0,1,0,1,0,0,0,1,0,1,0,0,1,1,0,0,1,0,1,0,0,0,1,0,0,1,1,0,0,1,0,0,0]]\n"
   ]
  },
  {
   "cell_type": "code",
   "execution_count": 18,
   "id": "153f1956-0c4c-4cf3-8aa6-9d4ddfa170d5",
   "metadata": {},
   "outputs": [],
   "source": [
    "input_data_np3 = np.array(input_data_3)"
   ]
  },
  {
   "cell_type": "code",
   "execution_count": 19,
   "id": "ffcab1e6-36d3-42ef-b4f9-ea7665c9bade",
   "metadata": {},
   "outputs": [
    {
     "name": "stdout",
     "output_type": "stream",
     "text": [
      "\u001b[1m1/1\u001b[0m \u001b[32m━━━━━━━━━━━━━━━━━━━━\u001b[0m\u001b[37m\u001b[0m \u001b[1m0s\u001b[0m 54ms/step\n",
      "Predicted class: [1]\n"
     ]
    }
   ],
   "source": [
    "predictions = loaded_model.predict(input_data_np3)\n",
    "rounded_predictions = np.round(predictions).astype(int)\n",
    "# Interpret and print rounded results\n",
    "for prediction in rounded_predictions:\n",
    "    print(f\"Predicted class: {prediction}\")"
   ]
  },
  {
   "cell_type": "code",
   "execution_count": null,
   "id": "893314f0-4292-46f3-b057-2369ac9e7244",
   "metadata": {},
   "outputs": [],
   "source": []
  }
 ],
 "metadata": {
  "kernelspec": {
   "display_name": "Python 3 (ipykernel)",
   "language": "python",
   "name": "python3"
  },
  "language_info": {
   "codemirror_mode": {
    "name": "ipython",
    "version": 3
   },
   "file_extension": ".py",
   "mimetype": "text/x-python",
   "name": "python",
   "nbconvert_exporter": "python",
   "pygments_lexer": "ipython3",
   "version": "3.11.7"
  }
 },
 "nbformat": 4,
 "nbformat_minor": 5
}
